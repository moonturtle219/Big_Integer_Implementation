{
 "cells": [
  {
   "cell_type": "code",
   "execution_count": 8,
   "metadata": {},
   "outputs": [
    {
     "name": "stdout",
     "output_type": "stream",
     "text": [
      "873523158530376100910291907124512384649076426686214371225150534296956699102801328075811571114224702014\n",
      "96591036037452784977873308678513636630565105103680491006710749695811979961310992342543729137312715629895893973055656015385517856703306060705340048957085433522077113690263341972511295343464485182708977\n",
      "84374506885157140086196553157132469659319297355212595173235529154686766193744960333813396781809548779828258383792828094471101178516956814375173203449070807498608576313275222796969161529761992007981111807071771743724039360491164948834885043199544496935802298289603130436637367385222184559718243107779678\n",
      "--- 2.193450927734375e-05 seconds ---\n"
     ]
    }
   ],
   "source": [
    "# import libraries\n",
    "from random import randint\n",
    "import time\n",
    "\n",
    "# generate bigint based on number of digits\n",
    "def random_with_N_digits(n):\n",
    "    range_start = 10**(n-1)\n",
    "    range_end = (10**n)-1\n",
    "    return randint(range_start, range_end)\n",
    "    \n",
    "# generate and print 2 BigInts\n",
    "a = random_with_N_digits(102)\n",
    "b = random_with_N_digits(200)\n",
    "print(a)\n",
    "print(b)\n",
    "\n",
    "# Perform operation - print result and time\n",
    "start_time = time.time()\n",
    "c=a*b\n",
    "end_time = time.time()\n",
    "print(c)\n",
    "consumed_time = end_time - start_time\n",
    "print(\"--- %s seconds ---\" % (consumed_time))"
   ]
  },
  {
   "cell_type": "code",
   "execution_count": 9,
   "metadata": {},
   "outputs": [
    {
     "name": "stdout",
     "output_type": "stream",
     "text": [
      "254967968163695316932182319625863736261140294867042863967010311069162064279707631038217067096193966354\t35458653027137842495703980817064370606506421225457206880903314565876369233905221231068314606703074087208730796323094143747670000625073307584975032770801515761967230322295919234363914032185225604565411\t9040820716150800002299307850976383097701127111598449577314618645310202924559716423011096503517251239530797875893150787151408137592817846637248055295485055478353418584997706835146303128270587031223918250242710734060600036156018194656801076662685011133902095580176490634004605694906882971001454526181494\t1.9788742065429688e-05\n",
      "873523158530376100910291907124512384649076426686214371225150534296956699102801328075811571114224702014\t96591036037452784977873308678513636630565105103680491006710749695811979961310992342543729137312715629895893973055656015385517856703306060705340048957085433522077113690263341972511295343464485182708977\t84374506885157140086196553157132469659319297355212595173235529154686766193744960333813396781809548779828258383792828094471101178516956814375173203449070807498608576313275222796969161529761992007981111807071771743724039360491164948834885043199544496935802298289603130436637367385222184559718243107779678\t2.193450927734375e-05\n",
      "\n"
     ]
    }
   ],
   "source": [
    "# write test information into TestSample.txt \n",
    "import os.path\n",
    "\n",
    "__path__ = \"./MultiplyTextSample.txt\"\n",
    "if (not os.path.isfile(__path__)):\n",
    "    file = open(\"MultiplyTextSample.txt\", \"x\")\n",
    "\n",
    "file = open(\"MultiplyTextSample.txt\", \"a\")\n",
    "file.write(str(a)+ \"\\t\")\n",
    "file.write(str(b)+ \"\\t\")\n",
    "file.write(str(c)+ \"\\t\")\n",
    "file.write(str(consumed_time)+ \"\\n\")\n",
    "file.close()\n",
    "\n",
    "#open and read the file after the overwriting:\n",
    "file = open(\"MultiplyTextSample.txt\", \"r\")\n",
    "print(file.read())"
   ]
  },
  {
   "cell_type": "code",
   "execution_count": null,
   "metadata": {},
   "outputs": [],
   "source": []
  }
 ],
 "metadata": {
  "kernelspec": {
   "display_name": "Python 3",
   "language": "python",
   "name": "python3"
  },
  "language_info": {
   "codemirror_mode": {
    "name": "ipython",
    "version": 3
   },
   "file_extension": ".py",
   "mimetype": "text/x-python",
   "name": "python",
   "nbconvert_exporter": "python",
   "pygments_lexer": "ipython3",
   "version": "3.9.6"
  },
  "orig_nbformat": 4
 },
 "nbformat": 4,
 "nbformat_minor": 2
}
